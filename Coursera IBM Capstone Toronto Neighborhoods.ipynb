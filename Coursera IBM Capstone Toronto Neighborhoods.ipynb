{
    "nbformat_minor": 1, 
    "cells": [
        {
            "source": "# Coursera IBM Capstone Projects: Locations in Toronto's Neighborhoods\n## Capstone Assignment week 3 (scraping web data, applying location api, clustering, visualization)", 
            "cell_type": "markdown", 
            "metadata": {
                "collapsed": true
            }
        }, 
        {
            "source": "### Stage 1: gather postal codes from Wikipedia ", 
            "cell_type": "markdown", 
            "metadata": {}
        }, 
        {
            "execution_count": 1, 
            "cell_type": "code", 
            "metadata": {}, 
            "outputs": [], 
            "source": "# import the necessary libraries and setup pandas set_option\nimport requests\nfrom bs4 import BeautifulSoup\nimport pandas as pd\npd.set_option('display.max_colwidth', 200)\npd.set_option('display.max_rows', None)\nimport numpy as np"
        }, 
        {
            "source": "The postal code data frame needs the columns: 'PostalCode', 'Borough', 'Neighborhood'.\nPostal codes beginning with 'M' belong to the city of Toronto, see: https://en.wikipedia.org/wiki/List_of_postal_codes_of_Canada:_M", 
            "cell_type": "markdown", 
            "metadata": {}
        }, 
        {
            "execution_count": 2, 
            "cell_type": "code", 
            "metadata": {}, 
            "outputs": [], 
            "source": "# get the html file\nwiki_url = 'https://en.wikipedia.org/wiki/List_of_postal_codes_of_Canada:_M'\nfile = requests.get(wiki_url).text"
        }, 
        {
            "execution_count": null, 
            "cell_type": "code", 
            "metadata": {}, 
            "outputs": [], 
            "source": "# use Beautifulsoup to extract necessary information\nsoup = BeautifulSoup(file, 'html5lib')\n\n# get wikipedia table, postal codes are stored in the first <tbody></tbody>\nwiki_table = soup.find('tbody')\n\n# extract text and append to a new list, create a dictionary with the data, and finally create a pandas.DataFrame from the dictionary\ncode_list = []\nfor td in wiki_table.findAll('td'):\n    code_list.append(td.text.strip())\n\ncode_dic = {}\ncode_dic['PostalCode'] = code_list[0::3]\ncode_dic['Borough'] = code_list[1::3]\ncode_dic['Neighborhood'] = code_list[2::3]\n    \npostal_df = pd.DataFrame(code_dic, columns = ['PostalCode', 'Borough', 'Neighborhood'])\npostal_df.shape"
        }, 
        {
            "execution_count": null, 
            "cell_type": "code", 
            "metadata": {}, 
            "outputs": [], 
            "source": "# clean the data fram\n# drop rows whose value is 'Not assigned' =  Ignore cells with a borough that is Not assigned.\npostal_df = postal_df[postal_df.Borough != 'Not assigned']\n\n# combine rows with same PostalCode and concatenate the values in Neighborhood\npostal_df = postal_df.groupby(['PostalCode', 'Borough'], sort=True, as_index=False).agg(lambda x: ', '.join(x.dropna()))\n\n# replace the Neighborhood column with Borough if Neighborhood is not assigned\npostal_df['Neighborhood'] = np.where(postal_df['Neighborhood'] == 'Not assigned', postal_df['Borough'], postal_df['Neighborhood'])\npostal_df"
        }, 
        {
            "execution_count": null, 
            "cell_type": "code", 
            "metadata": {}, 
            "outputs": [], 
            "source": "# print the shape of the data frame\npostal_df.shape"
        }, 
        {
            "execution_count": null, 
            "cell_type": "code", 
            "metadata": {}, 
            "outputs": [], 
            "source": ""
        }
    ], 
    "metadata": {
        "kernelspec": {
            "display_name": "Python 3.5", 
            "name": "python3", 
            "language": "python"
        }, 
        "language_info": {
            "mimetype": "text/x-python", 
            "nbconvert_exporter": "python", 
            "version": "3.5.5", 
            "name": "python", 
            "file_extension": ".py", 
            "pygments_lexer": "ipython3", 
            "codemirror_mode": {
                "version": 3, 
                "name": "ipython"
            }
        }
    }, 
    "nbformat": 4
}